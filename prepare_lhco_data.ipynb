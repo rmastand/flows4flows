{
 "cells": [
  {
   "cell_type": "code",
   "execution_count": 2,
   "id": "fa4b87ab",
   "metadata": {},
   "outputs": [],
   "source": [
    "import matplotlib.pyplot as plt\n",
    "import matplotlib\n",
    "import numpy as np\n",
    "import torch\n",
    "import os\n",
    "from numba import cuda \n",
    "\n",
    "\n",
    "from helpers import *"
   ]
  },
  {
   "cell_type": "code",
   "execution_count": 3,
   "id": "173ac6ff",
   "metadata": {},
   "outputs": [],
   "source": [
    "# directories\n",
    "data_dir = \"/global/home/users/rrmastandrea/FETA/LHCO_0sig_f/data/\"\n",
    "# load in the reverse rescales\n",
    "path_to_minmax = \"/global/home/users/rrmastandrea/FETA/LHCO_STS/data/col_minmax.npy\"\n",
    "col_minmax = np.load(path_to_minmax)\n",
    "\n",
    "\n",
    "num_features = 5\n",
    "\n",
    "\n",
    "# dataset generation parameters\n",
    "context_endpoints = (2500, 4500)\n",
    "\n",
    "bands_dict = {\"ob1\": [2500, 2900],\n",
    "              \"sb1\": [2900, 3300],\n",
    "              \"sr\" : [3300, 3700],\n",
    "              \"sb2\": [3700, 4100],\n",
    "              \"ob2\": [4100, 4500]}\n"
   ]
  },
  {
   "cell_type": "code",
   "execution_count": 4,
   "id": "3077f629",
   "metadata": {},
   "outputs": [
    {
     "name": "stdout",
     "output_type": "stream",
     "text": [
      "Num SIM events in SB: 401354\n",
      "Num DAT events in SB: 278761\n",
      "\n",
      "Preproccessing data...\n",
      "\n"
     ]
    }
   ],
   "source": [
    "\"\"\"\n",
    "\"\"\"\n",
    "\"\"\"\n",
    "LOAD IN THE DATASETS AND PROCESS\n",
    "\"\"\"\n",
    "\"\"\"\n",
    "\"\"\"\n",
    "\n",
    "npull_dataset_train_sim = ToyDataset(data_dir, \"train_sim.npy\")\n",
    "npull_dataset_val_sim = ToyDataset(data_dir, \"val_sim.npy\")\n",
    "npull_dataset_train_dat = ToyDataset(data_dir, \"train_dat.npy\")\n",
    "npull_dataset_val_dat = ToyDataset(data_dir, \"val_dat.npy\")\n",
    "\n",
    "print(\"Num SIM events in SB:\", len(npull_dataset_train_sim)+len(npull_dataset_val_sim))\n",
    "print(\"Num DAT events in SB:\", len(npull_dataset_train_dat)+len(npull_dataset_val_dat))\n",
    "print()\n",
    "\n",
    "# Preprocess the data\n",
    "print(\"Preproccessing data...\")\n",
    "print()\n",
    "dataset_train_sim = npull_dataset_train_sim.pull_from_mass_range([bands_dict[\"sb1\"], bands_dict[\"sr\"], bands_dict[\"sb2\"]])\n",
    "dataset_val_sim = npull_dataset_val_sim.pull_from_mass_range([bands_dict[\"sb1\"], bands_dict[\"sr\"], bands_dict[\"sb2\"]])\n",
    "dataset_train_dat = npull_dataset_train_dat.pull_from_mass_range([bands_dict[\"sb1\"], bands_dict[\"sb2\"]])\n",
    "dataset_val_dat = npull_dataset_val_dat.pull_from_mass_range([bands_dict[\"sb1\"], bands_dict[\"sb2\"]])\n",
    "\n",
    "dataset_train_sim = minmaxscale(dataset_train_sim.data, col_minmax, lower = -3, upper = 3, forward = True)\n",
    "dataset_val_sim = minmaxscale(dataset_val_sim.data, col_minmax, lower = -3, upper = 3, forward = True)\n",
    "dataset_train_dat = minmaxscale(dataset_train_dat.data, col_minmax, lower = -3, upper = 3, forward = True)\n",
    "dataset_val_dat = minmaxscale(dataset_val_dat.data, col_minmax, lower = -3, upper = 3, forward = True)\n"
   ]
  },
  {
   "cell_type": "code",
   "execution_count": 5,
   "id": "6b0c0092",
   "metadata": {},
   "outputs": [
    {
     "name": "stdout",
     "output_type": "stream",
     "text": [
      "(321083, 6)\n",
      "(80271, 6)\n",
      "(223008, 6)\n",
      "(55753, 6)\n"
     ]
    },
    {
     "data": {
      "image/png": "[encoded data removed]",
      "text/plain": [
       "<Figure size 1440x216 with 6 Axes>"
      ]
     },
     "metadata": {
      "needs_background": "light"
     },
     "output_type": "display_data"
    }
   ],
   "source": [
    "print(dataset_train_sim.shape)\n",
    "print(dataset_val_sim.shape)\n",
    "print(dataset_train_dat.shape)\n",
    "print(dataset_val_dat.shape)\n",
    "\n",
    "fig, ax = plt.subplots(1, 6, figsize = (20,3))\n",
    "\n",
    "for i in range(6):\n",
    "    ax[i].hist(dataset_train_sim[:,i], bins = 40, histtype = \"step\", density = True, label = \"sim\")\n",
    "    ax[i].hist(dataset_train_dat[:,i], bins = 40, histtype = \"step\", density = True, label = \"dat\")\n",
    "plt.legend()\n",
    "plt.show()\n"
   ]
  },
  {
   "cell_type": "code",
   "execution_count": 6,
   "id": "d42fbb25",
   "metadata": {},
   "outputs": [],
   "source": [
    "# save data out\n",
    "\n",
    "np.save(\"LHCO_data/train_sim_data.npy\", dataset_train_sim[:,:5])\n",
    "np.save(\"LHCO_data/val_sim_data.npy\", dataset_val_sim[:,:5])\n",
    "np.save(\"LHCO_data/train_dat_data.npy\", dataset_train_dat[:,:5])\n",
    "np.save(\"LHCO_data/val_dat_data.npy\", dataset_val_dat[:,:5])\n",
    "\n",
    "np.save(\"LHCO_data/train_sim_cont.npy\", dataset_train_sim[:,5])\n",
    "np.save(\"LHCO_data/val_sim_cont.npy\", dataset_val_sim[:,5])\n",
    "np.save(\"LHCO_data/train_dat_cont.npy\", dataset_train_dat[:,5])\n",
    "np.save(\"LHCO_data/val_dat_cont.npy\", dataset_val_dat[:,5])\n"
   ]
  },
  {
   "cell_type": "code",
   "execution_count": null,
   "id": "c555b670",
   "metadata": {},
   "outputs": [],
   "source": []
  },
  {
   "cell_type": "code",
   "execution_count": null,
   "id": "b5e44546",
   "metadata": {},
   "outputs": [],
   "source": []
  },
  {
   "cell_type": "code",
   "execution_count": null,
   "id": "3a8e9c6b",
   "metadata": {},
   "outputs": [],
   "source": []
  },
  {
   "cell_type": "code",
   "execution_count": null,
   "id": "2bcac6a4",
   "metadata": {},
   "outputs": [],
   "source": []
  },
  {
   "cell_type": "code",
   "execution_count": null,
   "id": "b4b76406",
   "metadata": {},
   "outputs": [],
   "source": []
  },
  {
   "cell_type": "code",
   "execution_count": null,
   "id": "50b841d3",
   "metadata": {},
   "outputs": [],
   "source": []
  },
  {
   "cell_type": "code",
   "execution_count": null,
   "id": "6dc28f07",
   "metadata": {},
   "outputs": [],
   "source": []
  },
  {
   "cell_type": "code",
   "execution_count": null,
   "id": "26879042",
   "metadata": {},
   "outputs": [],
   "source": []
  }
 ],
 "metadata": {
  "kernelspec": {
   "display_name": "Python 3",
   "language": "python",
   "name": "python3"
  },
  "language_info": {
   "codemirror_mode": {
    "name": "ipython",
    "version": 3
   },
   "file_extension": ".py",
   "mimetype": "text/x-python",
   "name": "python",
   "nbconvert_exporter": "python",
   "pygments_lexer": "ipython3",
   "version": "3.6.8"
  }
 },
 "nbformat": 4,
 "nbformat_minor": 5
}

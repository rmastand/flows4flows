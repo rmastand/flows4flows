{
 "cells": [
  {
   "cell_type": "code",
   "execution_count": 1,
   "id": "abaebbda",
   "metadata": {},
   "outputs": [],
   "source": [
    "import numpy as np\n",
    "import matplotlib.pyplot as plt\n",
    "import torch\n",
    "\n",
    "from ffflows.models import BaseFlow\n",
    "from ffflows.utils import set_trainable\n",
    "from utils import get_activation, spline_inn, coupling_flow, get_flow4flow, get_conditional_data\n",
    "\n",
    "from nflows.distributions import StandardNormal\n",
    "\n",
    "from ffflows.data.conditional_plane import ScienceDataset"
   ]
  },
  {
   "cell_type": "code",
   "execution_count": 2,
   "id": "b092c66b",
   "metadata": {},
   "outputs": [
    {
     "name": "stdout",
     "output_type": "stream",
     "text": [
      "cuda:0\n"
     ]
    }
   ],
   "source": [
    "\n",
    "\n",
    "base_flow_path = \"/global/home/users/rrmastandrea/flows4flows/test/LHCO_no_penalty/base/epoch_99_valloss_4.862.pt\"\n",
    "trans_flow_path = \"/global/home/users/rrmastandrea/flows4flows/test/LHCO_no_penalty_test/f4f/epoch_19_valloss_4.732.pt\"\n",
    "\n",
    "\n",
    "device = torch.device(\"cuda:0\" if torch.cuda.is_available() else \"cpu\")\n",
    "print(device)"
   ]
  },
  {
   "cell_type": "code",
   "execution_count": 4,
   "id": "56568947",
   "metadata": {},
   "outputs": [],
   "source": [
    "# load in the flow\n",
    "\n",
    "data_dim = 5\n",
    "ncond = 1\n",
    "\n",
    "# base flow params\n",
    "nnodes_base = 128\n",
    "nblocks_base = 15\n",
    "nstack_base = 1\n",
    "activation_base = \"relu\"\n",
    "nbins_base = 10\n",
    "\n",
    "# transfer flow params\n",
    "nnodes_top = 32\n",
    "nblocks_top = 8\n",
    "nstack_stop = 2\n",
    "nbins_top = 10\n",
    "flow4flow = \"delta\"\n",
    "\n",
    "base_flow = BaseFlow(spline_inn(data_dim,\n",
    "                                    nnodes_base,\n",
    "                                    nblocks_base,\n",
    "                                    nstack_base,\n",
    "                                    tail_bound=4.0,\n",
    "                                    num_bins=nbins_base,\n",
    "                                    context_features=ncond\n",
    "                                    ),\n",
    "                         StandardNormal([data_dim])\n",
    "                         )\n",
    "    \n",
    "base_flow.load_state_dict(torch.load(base_flow_path, map_location=device))\n",
    "\n",
    "set_trainable(base_flow, False)\n",
    "\n",
    "\n",
    "    \n",
    "f4flow = get_flow4flow(flow4flow,\n",
    "                           coupling_flow(data_dim,\n",
    "                                      nodes=nnodes_top,\n",
    "                                      num_blocks=nblocks_top,\n",
    "                                      num_stack=nstack_stop,\n",
    "                                      tail_bound=4.0,\n",
    "                                      num_bins=nbins_top,\n",
    "                                      context_features=ncond,\n",
    "                                      flow_for_flow=True\n",
    "                                      ),\n",
    "                           base_flow)\n",
    "    \n",
    "\n",
    "f4flow.load_state_dict(torch.load(trans_flow_path, map_location=device))\n",
    "        \n",
    "        \n",
    "set_trainable(f4flow, False)\n",
    "            \n",
    "            "
   ]
  },
  {
   "cell_type": "code",
   "execution_count": 5,
   "id": "e60bd0e1",
   "metadata": {},
   "outputs": [],
   "source": [
    "# generate data\n",
    "\"\"\"\n",
    "condition = \"radial\"\n",
    "data = \"Checkerboard\"\n",
    "\n",
    "def get_data(n_points):\n",
    "        return get_conditional_data(condition, data, n_points)\n",
    "\n",
    "dataset=get_data(1000)\n",
    "\n",
    "plt.figure()\n",
    "im = plt.scatter(dataset.data[:,0], dataset.data[:,1], c = dataset.conditions[:])\n",
    "plt.colorbar(im)\n",
    "plt.show()\n",
    "\n",
    "\"\"\"\n",
    "\n",
    "\n",
    "# Get training data\n",
    "train_sim_data = torch.from_numpy(np.load(\"LHCO_data/train_sim_data.npy\")).to(torch.float32)\n",
    "val_sim_data = torch.from_numpy(np.load(\"LHCO_data/val_sim_data.npy\")).to(torch.float32)\n",
    "train_dat_data = torch.from_numpy(np.load(\"LHCO_data/train_dat_data.npy\")).to(torch.float32)\n",
    "val_dat_data = torch.from_numpy(np.load(\"LHCO_data/val_dat_data.npy\")).to(torch.float32)\n",
    "\n",
    "train_sim_cont = torch.from_numpy(np.load(\"LHCO_data/train_sim_cont.npy\").reshape(-1, 1)).to(torch.float32)\n",
    "val_sim_cont = torch.from_numpy(np.load(\"LHCO_data/val_sim_cont.npy\").reshape(-1, 1)).to(torch.float32)\n",
    "train_dat_cont = torch.from_numpy(np.load(\"LHCO_data/train_dat_cont.npy\").reshape(-1, 1)).to(torch.float32)\n",
    "val_dat_cont = torch.from_numpy(np.load(\"LHCO_data/val_dat_cont.npy\").reshape(-1, 1)).to(torch.float32)"
   ]
  },
  {
   "cell_type": "code",
   "execution_count": 6,
   "id": "0109fdb6",
   "metadata": {},
   "outputs": [
    {
     "data": {
      "image/png": "[encoded data removed]",
      "text/plain": [
       "<Figure size 1152x288 with 5 Axes>"
      ]
     },
     "metadata": {
      "needs_background": "light"
     },
     "output_type": "display_data"
    }
   ],
   "source": [
    "bins = np.linspace(-3.5, 3.5, 60)\n",
    "\n",
    "fig, ax = plt.subplots(1, 5, figsize = (16, 4))\n",
    "\n",
    "for i in range(data_dim):\n",
    "    ax[i].hist(val_sim_data[:,i].numpy(), bins = bins, label = \"sim\", histtype = \"step\", density = True, color = \"red\")\n",
    "    ax[i].hist(val_dat_data[:,i].numpy(), bins = bins, label = \"dat\", histtype = \"step\", density = True, color = \"blue\")\n",
    "    \n",
    "    \n",
    "    ax[i].legend()\n",
    "    \n",
    "plt.show()"
   ]
  },
  {
   "cell_type": "code",
   "execution_count": 7,
   "id": "2d8c1f3f",
   "metadata": {},
   "outputs": [
    {
     "data": {
      "image/png": "[encoded data removed]",
      "text/plain": [
       "<Figure size 1152x288 with 5 Axes>"
      ]
     },
     "metadata": {
      "needs_background": "light"
     },
     "output_type": "display_data"
    }
   ],
   "source": [
    "\n",
    "\n",
    "sim_dataset = ScienceDataset(val_sim_data, val_sim_cont)\n",
    "dat_dataset = ScienceDataset(val_dat_data, val_dat_cont)\n",
    "\n",
    "\n",
    "# sample from the BD\n",
    "n_transform = 55753\n",
    "\n",
    "noise = torch.normal(0, 1, size=(n_transform, 5))\n",
    "bd_samples, _ = f4flow.base_flow_right._transform.inverse(noise, sim_dataset.conditions[:n_transform])\n",
    "\n",
    "bins = np.linspace(-3.5, 3.5, 60)\n",
    "\n",
    "fig, ax = plt.subplots(1, 5, figsize = (16, 4))\n",
    "for i in range(data_dim):\n",
    "    ax[i].hist(val_sim_data[:,i].numpy(), bins = bins, label = \"sim\", histtype = \"step\", density = True, color = \"red\")\n",
    "    ax[i].hist(bd_samples[:,i].numpy(), bins = bins, label = \"base density\", histtype = \"bar\", density = True, color = \"red\", alpha = 0.5)\n",
    "    ax[i].legend(loc = \"lower right\")\n",
    "    \n",
    "plt.show()"
   ]
  },
  {
   "cell_type": "code",
   "execution_count": 12,
   "id": "986a4219",
   "metadata": {},
   "outputs": [
    {
     "data": {
      "image/png": "[encoded data removed]",
      "text/plain": [
       "<Figure size 1152x288 with 5 Axes>"
      ]
     },
     "metadata": {
      "needs_background": "light"
     },
     "output_type": "display_data"
    }
   ],
   "source": [
    "# transform\n",
    "transformed_sim, _ = f4flow.transform(sim_dataset.data[:n_transform], sim_dataset.conditions[:n_transform], dat_dataset.conditions[:n_transform])\n",
    "transformed_bd, _ = f4flow.transform(bd_samples, sim_dataset.conditions[:n_transform], dat_dataset.conditions[:n_transform])\n",
    "\n",
    "\n",
    "# get summary stats\n",
    "\n",
    "bins = np.linspace(-3, 3, 60)\n",
    "\n",
    "fig, ax = plt.subplots(1, 5, figsize = (16, 4))\n",
    "for i in range(data_dim):\n",
    "    ax[i].hist(val_dat_data[:,i].numpy(), bins = bins, label = \"dat\", histtype = \"step\", density = True, color = \"blue\")\n",
    "    ax[i].hist(transformed_sim[:,i].numpy(), bins = bins, label = \"trans sim\", histtype = \"step\", density = True, color = \"purple\")\n",
    "    ax[i].hist(transformed_bd[:,i].numpy(), bins = bins, label = \"trans bd\", histtype = \"bar\", density = True, color = \"purple\", alpha = 0.5)\n",
    "    ax[i].legend(loc = \"lower center\")\n",
    "plt.show()"
   ]
  },
  {
   "cell_type": "code",
   "execution_count": null,
   "id": "5123b6dd",
   "metadata": {},
   "outputs": [],
   "source": []
  },
  {
   "cell_type": "code",
   "execution_count": null,
   "id": "3a824968",
   "metadata": {},
   "outputs": [],
   "source": []
  },
  {
   "cell_type": "code",
   "execution_count": null,
   "id": "36330f02",
   "metadata": {},
   "outputs": [],
   "source": []
  },
  {
   "cell_type": "code",
   "execution_count": null,
   "id": "6e8f56ce",
   "metadata": {},
   "outputs": [],
   "source": []
  },
  {
   "cell_type": "code",
   "execution_count": null,
   "id": "8229fe7b",
   "metadata": {},
   "outputs": [],
   "source": []
  },
  {
   "cell_type": "code",
   "execution_count": null,
   "id": "aaced279",
   "metadata": {},
   "outputs": [],
   "source": []
  },
  {
   "cell_type": "code",
   "execution_count": null,
   "id": "a02167ee",
   "metadata": {},
   "outputs": [],
   "source": []
  },
  {
   "cell_type": "code",
   "execution_count": null,
   "id": "b786e280",
   "metadata": {},
   "outputs": [],
   "source": []
  },
  {
   "cell_type": "code",
   "execution_count": null,
   "id": "100a8cba",
   "metadata": {},
   "outputs": [],
   "source": []
  },
  {
   "cell_type": "code",
   "execution_count": null,
   "id": "9e7b5395",
   "metadata": {},
   "outputs": [],
   "source": []
  },
  {
   "cell_type": "code",
   "execution_count": null,
   "id": "f88f6e47",
   "metadata": {},
   "outputs": [],
   "source": []
  },
  {
   "cell_type": "code",
   "execution_count": null,
   "id": "76fb9f12",
   "metadata": {},
   "outputs": [],
   "source": []
  },
  {
   "cell_type": "code",
   "execution_count": null,
   "id": "490d5f39",
   "metadata": {},
   "outputs": [],
   "source": []
  },
  {
   "cell_type": "code",
   "execution_count": null,
   "id": "b9496e99",
   "metadata": {},
   "outputs": [],
   "source": []
  },
  {
   "cell_type": "code",
   "execution_count": null,
   "id": "1d213e67",
   "metadata": {},
   "outputs": [],
   "source": []
  }
 ],
 "metadata": {
  "kernelspec": {
   "display_name": "Python 3",
   "language": "python",
   "name": "python3"
  },
  "language_info": {
   "codemirror_mode": {
    "name": "ipython",
    "version": 3
   },
   "file_extension": ".py",
   "mimetype": "text/x-python",
   "name": "python",
   "nbconvert_exporter": "python",
   "pygments_lexer": "ipython3",
   "version": "3.6.8"
  }
 },
 "nbformat": 4,
 "nbformat_minor": 5
}
